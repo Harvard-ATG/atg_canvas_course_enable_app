{
 "cells": [
  {
   "cell_type": "code",
   "execution_count": null,
   "metadata": {},
   "outputs": [],
   "source": [
    "import requests\n",
    "import csv"
   ]
  },
  {
   "cell_type": "code",
   "execution_count": null,
   "metadata": {},
   "outputs": [],
   "source": [
    "hidden_nav_file = 'hidden_app_courses.csv'\n",
    "canvas_host = 'canvas.your-institution.edu'\n",
    "canvas_admin_token = 'your_api_token_goes_here'\n",
    "external_tool_id = '12345'\n",
    "headers = {'Authorization': f'Bearer {canvas_admin_token}'}"
   ]
  },
  {
   "cell_type": "markdown",
   "metadata": {},
   "source": [
    "## 1: use Canvas Data to find hidden Zoom nav items\n",
    "Run this query against your Canvas Data 2 database(credentials are in the `confluence wiki` and in the `tlt-ops` account) and save to a CSV called `hidden_zoom_courses.csv`. You'll need to replace the numeric IDs with the tool and enrollment term IDs from your instance. Note: we only really need the `id` to make the change. You can find the tool's id in canvas or via the API by making a call to `https://{canvas_host}/api/v1/courses/{course_id}/tabs`. This will list out all available tools and their ID's \n",
    "\n",
    "```sql\n",
    "select id, course_code, enrollment_term_id\n",
    "  from canvas.courses can \n",
    "  where can.tab_configuration like '%{\"id\":\"context_external_tool_<tool id>\",\"hidden\":true}%' and enrollment_term_id='<term id>';\n",
    "```\n"
   ]
  },
  {
   "cell_type": "markdown",
   "metadata": {},
   "source": [
    "## 2: Unhide the hidden nav items found in step 1"
   ]
  },
  {
   "cell_type": "code",
   "execution_count": null,
   "metadata": {},
   "outputs": [],
   "source": [
    "# unhide navs\n",
    "\n",
    "with open(hidden_nav_file, 'r') as infile:\n",
    "    reader = csv.DictReader(infile)\n",
    "    r = 0;\n",
    "    for row in reader:\n",
    "        api_url = f'https://{canvas_host}/api/v1/courses/{row[\"canvas_id\"]}/tabs/context_external_tool_{external_tool_id}?hidden=false'\n",
    "        response = requests.put(api_url, headers=headers)\n",
    "        print(response.text)\n",
    "        r += 1;\n",
    "        print(f'{r}; ', end='')\n",
    "\n",
    "        \n",
    "print('Done!')"
   ]
  }
 ],
 "metadata": {
  "kernelspec": {
   "display_name": "Python 3",
   "language": "python",
   "name": "python3"
  },
  "language_info": {
   "codemirror_mode": {
    "name": "ipython",
    "version": 3
   },
   "file_extension": ".py",
   "mimetype": "text/x-python",
   "name": "python",
   "nbconvert_exporter": "python",
   "pygments_lexer": "ipython3",
   "version": "3.12.3"
  }
 },
 "nbformat": 4,
 "nbformat_minor": 2
}
